{
 "cells": [
  {
   "cell_type": "code",
   "execution_count": 1,
   "id": "76810aa0",
   "metadata": {},
   "outputs": [],
   "source": [
    "import pandas as pd\n",
    "import matplotlib.pyplot as plt\n",
    "import numpy as np\n",
    "\n",
    "model1 = pd.read_csv(\"./submit/submit_regnety_080_384_99.53.csv\")\n",
    "model2 = pd.read_csv(\"./submit/submit_swin_base_patch4_window12_384_in22k_99.76.csv\")\n",
    "model3 = pd.read_csv(\"./submit/submit_swin_base_patch4_window7_224_in22k_99.58.csv\")\n",
    "model4 = pd.read_csv(\"./submit/submit_swin_large_patch4_window7_224_in22k_99.53.csv\")\n",
    "model5 = pd.read_csv(\"./submit/submit_twins_pcpvt_base_384_99.61.csv\")\n",
    "model6 = pd.read_csv(\"./submit/submit_vit_base_patch16_384_99.56.csv\")\n",
    "model7 = pd.read_csv(\"./submit/submit_wide_resnet101_2_384_99.51.csv\")\n",
    "model8 = pd.read_csv(\"./submit/submit_xcit_small_24_p16_384_dist_99.64.csv\")\n",
    "model9 = pd.read_csv(\"./submit/submit_gluon_resnet101_v1s_384_99.55.csv\")"
   ]
  },
  {
   "cell_type": "code",
   "execution_count": 2,
   "id": "96af61d7",
   "metadata": {},
   "outputs": [],
   "source": [
    "record = {}"
   ]
  },
  {
   "cell_type": "code",
   "execution_count": 3,
   "id": "884fccc8",
   "metadata": {},
   "outputs": [],
   "source": [
    "for item in range(len(model1)):\n",
    "    listKeys = [\"tomato\", \"sugarcane\", \"soybean\", \"rice\", \"pumpkin\",\n",
    "               \"pineapple\", \"peanut\", \"guava\", \"garlic\", \"dragonfruit\", \n",
    "               \"corn\", \"carrot\", \"bareland\", \"banana\"]\n",
    "    dic_category = dict.fromkeys(listKeys, 0)\n",
    "    dic_category[model1.iloc[item][\"label\"]] += 1\n",
    "    dic_category[model2.iloc[item][\"label\"]] += 1\n",
    "    dic_category[model3.iloc[item][\"label\"]] += 1\n",
    "    dic_category[model4.iloc[item][\"label\"]] += 1\n",
    "    dic_category[model5.iloc[item][\"label\"]] += 1\n",
    "    dic_category[model6.iloc[item][\"label\"]] += 1\n",
    "    dic_category[model7.iloc[item][\"label\"]] += 1\n",
    "    dic_category[model8.iloc[item][\"label\"]] += 1\n",
    "    dic_category[model9.iloc[item][\"label\"]] += 1\n",
    "    max_value  = max(dic_category.values())\n",
    "    \n",
    "    for key, value in dic_category.items():\n",
    "        if(value == max_value):\n",
    "            record[model1.iloc[item][\"image_filename\"]] = (key, value)\n",
    "            break"
   ]
  },
  {
   "cell_type": "code",
   "execution_count": 4,
   "id": "57da3234",
   "metadata": {},
   "outputs": [
    {
     "data": {
      "image/png": "[encoded data removed]",
      "text/plain": [
       "<Figure size 432x288 with 1 Axes>"
      ]
     },
     "metadata": {
      "needs_background": "light"
     },
     "output_type": "display_data"
    }
   ],
   "source": [
    "category = []\n",
    "count = {}\n",
    "for item, value in record.items():\n",
    "    if value[1] in count:\n",
    "        count[value[1]] += 1\n",
    "    else:\n",
    "        count[value[1]] = 1\n",
    "    category.append(value[0])\n",
    "        \n",
    "plt.bar(count.keys(), count.values())\n",
    "plt.show()"
   ]
  },
  {
   "cell_type": "code",
   "execution_count": 5,
   "id": "6e7d5fc8",
   "metadata": {},
   "outputs": [],
   "source": [
    "submit = pd.DataFrame()  \n",
    "submit[\"image_filename\"] = record.keys()\n",
    "submit[\"label\"] = category\n",
    "submit.to_csv(\"res.csv\", index=False)"
   ]
  },
  {
   "cell_type": "code",
   "execution_count": null,
   "id": "83e338dd",
   "metadata": {},
   "outputs": [],
   "source": []
  }
 ],
 "metadata": {
  "kernelspec": {
   "display_name": "Python 3 (ipykernel)",
   "language": "python",
   "name": "python3"
  },
  "language_info": {
   "codemirror_mode": {
    "name": "ipython",
    "version": 3
   },
   "file_extension": ".py",
   "mimetype": "text/x-python",
   "name": "python",
   "nbconvert_exporter": "python",
   "pygments_lexer": "ipython3",
   "version": "3.8.10"
  }
 },
 "nbformat": 4,
 "nbformat_minor": 5
}
